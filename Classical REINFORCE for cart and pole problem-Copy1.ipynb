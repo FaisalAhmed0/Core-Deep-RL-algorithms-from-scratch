{
 "cells": [
  {
   "cell_type": "markdown",
   "metadata": {},
   "source": [
    "# Created by Faisal\n",
    "# 20/7/2019\n",
    "# REINFORCE algorithm on the cart and pole problem using a neural network policy\n",
    "# The code for REINFORCE is based on Chapter 13 section 3 of 'Reinforcement learning an intrduction by Sutton and Barto' \n",
    "# The reward for each episode will be saved during training for comparison with other algorithms"
   ]
  },
  {
   "cell_type": "markdown",
   "metadata": {},
   "source": [
    "## The policy network model is built using Tensorflow"
   ]
  },
  {
   "cell_type": "code",
   "execution_count": 1,
   "metadata": {},
   "outputs": [],
   "source": [
    "import gym\n",
    "import tensorflow as tf\n",
    "import numpy as np\n",
    "import matplotlib.pyplot as plt"
   ]
  },
  {
   "cell_type": "markdown",
   "metadata": {},
   "source": [
    "## Building the Network architecture"
   ]
  },
  {
   "cell_type": "code",
   "execution_count": 2,
   "metadata": {},
   "outputs": [],
   "source": [
    "n_input = 4\n",
    "n_hidden = 4\n",
    "n_output = 2"
   ]
  },
  {
   "cell_type": "markdown",
   "metadata": {},
   "source": [
    "## Building the Input layer"
   ]
  },
  {
   "cell_type": "code",
   "execution_count": 3,
   "metadata": {},
   "outputs": [],
   "source": [
    "X = tf.placeholder(tf.float32 ,(None, n_input),name='X')"
   ]
  },
  {
   "cell_type": "markdown",
   "metadata": {},
   "source": [
    "## Building the hidden layer"
   ]
  },
  {
   "cell_type": "code",
   "execution_count": 4,
   "metadata": {},
   "outputs": [],
   "source": [
    "w_hidden = tf.Variable(tf.random_normal((n_input,n_hidden)), name='w_hidden')\n",
    "b_hidden = tf.Variable(tf.random_normal((n_hidden,)), name = 'b_hidden')\n",
    "x_hidden = tf.nn.relu(tf.matmul(X,w_hidden) + b_hidden)"
   ]
  },
  {
   "cell_type": "markdown",
   "metadata": {},
   "source": [
    "## Building the output layer"
   ]
  },
  {
   "cell_type": "code",
   "execution_count": 5,
   "metadata": {},
   "outputs": [],
   "source": [
    "w_output = tf.Variable(tf.random_normal((n_hidden,n_output)), name='w_output')\n",
    "b_output = tf.Variable(tf.random_normal((n_output,)), name='b_output')\n",
    "output = tf.nn.softmax(tf.matmul(x_hidden,w_output) + b_output)"
   ]
  },
  {
   "cell_type": "markdown",
   "metadata": {},
   "source": [
    "## Define the loss function and the gradient update"
   ]
  },
  {
   "cell_type": "code",
   "execution_count": 6,
   "metadata": {},
   "outputs": [],
   "source": [
    "env = gym.make('CartPole-v0')\n",
    "obs = env.reset()"
   ]
  },
  {
   "cell_type": "code",
   "execution_count": 7,
   "metadata": {},
   "outputs": [],
   "source": [
    "Actions = [0, 1]"
   ]
  },
  {
   "cell_type": "code",
   "execution_count": 8,
   "metadata": {
    "scrolled": true
   },
   "outputs": [],
   "source": [
    "with tf.name_scope('loss'):\n",
    "    gt = tf.placeholder(tf.float32,(1,1))\n",
    "    wieighted_loss = -tf.multiply(tf.math.log(output),gt)\n",
    "#     loss = tf.reduce_mean(wieighted_loss)"
   ]
  },
  {
   "cell_type": "code",
   "execution_count": 9,
   "metadata": {},
   "outputs": [],
   "source": [
    "Learning_rate = 1e-12\n",
    "optimizer = tf.train.GradientDescentOptimizer(learning_rate=Learning_rate)\n",
    "training_op = optimizer.minimize(wieighted_loss)"
   ]
  },
  {
   "cell_type": "code",
   "execution_count": 10,
   "metadata": {},
   "outputs": [],
   "source": [
    "init = tf.global_variables_initializer()\n",
    "saver = tf.train.Saver()"
   ]
  },
  {
   "cell_type": "code",
   "execution_count": 11,
   "metadata": {},
   "outputs": [],
   "source": [
    "Gamma = 0.95\n",
    "# Store the reward for each episode to plot the learning curve\n",
    "Rewards = []\n",
    "#reward for single episode\n",
    "r = 0\n",
    "#number of training episodes\n",
    "num_episodes = 1e6"
   ]
  },
  {
   "cell_type": "markdown",
   "metadata": {},
   "source": [
    "## Monte Carlo return"
   ]
  },
  {
   "cell_type": "code",
   "execution_count": 12,
   "metadata": {},
   "outputs": [],
   "source": [
    "def G(history, t, gamma = 0.99):\n",
    "    G = 0\n",
    "    for time_step in range(len(history)-1,t-1,-1):\n",
    "            r = history[time_step][2]\n",
    "            G = (gamma * G) + r\n",
    "    return G   "
   ]
  },
  {
   "cell_type": "markdown",
   "metadata": {},
   "source": [
    "## Train the agent"
   ]
  },
  {
   "cell_type": "code",
   "execution_count": null,
   "metadata": {
    "scrolled": true
   },
   "outputs": [
    {
     "name": "stdout",
     "output_type": "stream",
     "text": [
      "reward: 37, iteration: 216 , max_rewrad: 114, avergae_rewrad 29.10  \r"
     ]
    }
   ],
   "source": [
    "env = gym.make('CartPole-v0')\n",
    "num_iterations = 5000000\n",
    "with tf.Session() as sess:\n",
    "    init.run()\n",
    "    for i in range(num_iterations):\n",
    "        r = 0\n",
    "        history = []\n",
    "        # Generate an episode#\n",
    "        ######################\n",
    "        state = env.reset()\n",
    "        c = 0\n",
    "        done = False\n",
    "        # The episode should exceed 1000 time step\n",
    "        while c < 1000:\n",
    "            if done:\n",
    "                Rewards.append(r)\n",
    "                print ('\\rreward: {}, iteration: {} , max_rewrad: {}, avergae_rewrad {:.2f} \\r'.format(r, i+1, \n",
    "                                                                        np.max(Rewards),np.mean(Rewards)),end='')\n",
    "                break\n",
    "            # Take actions according to the policy   \n",
    "            actions_probs = sess.run(output,feed_dict={X:state.reshape(1,4)})\n",
    "            actions_probs = actions_probs.reshape(2)\n",
    "            # choose action uniformly to keep exploring\n",
    "            step_action = tf.multinomial(actions_probs.reshape(1,2),num_samples=1).eval()[0][0]\n",
    "            step = [state,step_action]\n",
    "            state,reward,done,_ = env.step(step_action)\n",
    "            r += 1\n",
    "            step.append(reward)\n",
    "            history.append(step)\n",
    "        ########################\n",
    "        # save the policy neural network every 10 episodes\n",
    "        if (i%10 == 0):\n",
    "            saver.save(sess,'./REINFORCE_for_cart_and_pole_copy.ckpt')\n",
    "        # Apply the REINFORCE algorithm \n",
    "        for t in range(len(history)):\n",
    "            Gt = G(history,t,gamma=Gamma)\n",
    "            sess.run([training_op, wieighted_loss],feed_dict={X:state.reshape(1,4),gt:[[Gt]]})\n",
    "np.savetxt('REINFORCE_for_cart_and_pole_rewards_copy.txt',Rewards)"
   ]
  },
  {
   "cell_type": "code",
   "execution_count": null,
   "metadata": {},
   "outputs": [],
   "source": []
  },
  {
   "cell_type": "code",
   "execution_count": null,
   "metadata": {},
   "outputs": [],
   "source": []
  },
  {
   "cell_type": "code",
   "execution_count": null,
   "metadata": {},
   "outputs": [],
   "source": []
  },
  {
   "cell_type": "code",
   "execution_count": null,
   "metadata": {},
   "outputs": [],
   "source": []
  }
 ],
 "metadata": {
  "kernelspec": {
   "display_name": "myenv",
   "language": "python",
   "name": "myenv"
  },
  "language_info": {
   "codemirror_mode": {
    "name": "ipython",
    "version": 3
   },
   "file_extension": ".py",
   "mimetype": "text/x-python",
   "name": "python",
   "nbconvert_exporter": "python",
   "pygments_lexer": "ipython3",
   "version": "3.6.8"
  }
 },
 "nbformat": 4,
 "nbformat_minor": 2
}
