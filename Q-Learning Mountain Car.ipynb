{
 "cells": [
  {
   "cell_type": "markdown",
   "metadata": {},
   "source": [
    "## This notebook implemments the Q-learning algorithm with state Discretization for solving the MountainCar problem in gym for details about the environemnt go to https://gym.openai.com/envs/MountainCar-v0/\n",
    "\n"
   ]
  },
  {
   "cell_type": "code",
   "execution_count": null,
   "metadata": {},
   "outputs": [],
   "source": [
    "import numpy as np\n",
    "import gym\n",
    "import random\n",
    "import matplotlib.pyplot as plt"
   ]
  },
  {
   "cell_type": "code",
   "execution_count": 75,
   "metadata": {},
   "outputs": [],
   "source": [
    "env = gym.make('MountainCar-v0')"
   ]
  },
  {
   "cell_type": "markdown",
   "metadata": {},
   "source": [
    "## Discretizationscheme referenced to https://github.com/llSourcell/Q_Learning_Explained/blob/master/q_learning.py"
   ]
  },
  {
   "cell_type": "code",
   "execution_count": 76,
   "metadata": {},
   "outputs": [],
   "source": [
    "n_states = 40\n",
    "def observation(state):\n",
    "    env_low = env.observation_space.low\n",
    "    env_high = env.observation_space.high\n",
    "    dx = (env_high - env_low)/n_states\n",
    "    a = int((state[0] - env_low[0])/dx[0])\n",
    "    b = int((state[1] - env_low[1])/dx[1])\n",
    "    return a,b"
   ]
  },
  {
   "cell_type": "code",
   "execution_count": 77,
   "metadata": {},
   "outputs": [],
   "source": [
    "def evalute(render=False):\n",
    "    state = env.reset()\n",
    "    total_reward = 0\n",
    "    for t in range(1000):\n",
    "        if render:\n",
    "            env.render()\n",
    "        a,b = observation(state)\n",
    "        action = np.argmax(Q[a][b])\n",
    "        next_state,rewrad,done,_ = env.step(action)\n",
    "        total_reward += rewrad\n",
    "        if done:\n",
    "            if render:\n",
    "                env.render()\n",
    "            env.close()\n",
    "            return total_reward\n",
    "        state = next_state "
   ]
  },
  {
   "cell_type": "markdown",
   "metadata": {},
   "source": [
    "The code is implementation follows the pseudo code in Reinforcement Learning An Introduction second edition by Richard S. Sutton and Andrew G. Barto, chapter 6 section 6.5, the pseudo code is writtent as comments\n"
   ]
  },
  {
   "cell_type": "code",
   "execution_count": 108,
   "metadata": {
    "scrolled": true
   },
   "outputs": [
    {
     "name": "stdout",
     "output_type": "stream",
     "text": [
      "Mean reward in the last 100 episode -143.67\n"
     ]
    }
   ],
   "source": [
    "#Algorithm parameters\n",
    "lr = 0.3\n",
    "eps = 1\n",
    "eps_decay_rate = 0.99\n",
    "min_eps = 0.001\n",
    "#Initialize Q(s, a), for all s 2 S+, a 2 A(s), arbitrarily except that Q(terminal , ·) = 0\n",
    "episodes = 8000\n",
    "gamma = 0.95\n",
    "env = gym.make('MountainCar-v0')\n",
    "Q = np.zeros((n_states,n_states,3))\n",
    "rewards = []\n",
    "total_rewads = 0\n",
    "# Loop for each episode:\n",
    "for episode in range(episodes):\n",
    "    # Initialize S\n",
    "    state = env.reset()\n",
    "    for t in range(1000):\n",
    "        # Choose Action A from state S using policy Derived from Q (e.g, eps-greedy policy)\n",
    "        a,b = observation(state)\n",
    "        if random.uniform(0,1) <= eps:\n",
    "            action = env.action_space.sample()\n",
    "        else:\n",
    "            action = np.argmax(Q[a][b])\n",
    "        # Take action A, and observe the rewrad and next state.\n",
    "        next_state,rewrad,done,_ = env.step(action)\n",
    "        a_,b_ = observation(next_state)\n",
    "        # update the Q for the state action pair\n",
    "        Q[a][b][action] = Q[a][b][action] + lr*(rewrad + gamma*np.max(Q[a_][b_]) \n",
    "                                                                - Q[a][b][action] )\n",
    "        #S <- S0\n",
    "        state = next_state\n",
    "        #until S is terminal\n",
    "        if done:\n",
    "            rewards.append(evalute())\n",
    "            break\n",
    "    eps *= eps_decay_rate\n",
    "    if eps < min_eps:\n",
    "        eps = min_eps\n",
    "print('Mean reward in the last 100 episode',np.mean(rewards[-100:]))"
   ]
  },
  {
   "cell_type": "code",
   "execution_count": 109,
   "metadata": {},
   "outputs": [
    {
     "data": {
      "text/plain": [
       "[<matplotlib.lines.Line2D at 0x4a6cbdb1d0>]"
      ]
     },
     "execution_count": 109,
     "metadata": {},
     "output_type": "execute_result"
    },
    {
     "data": {
      "image/png": "[encoded data removed]",
      "text/plain": [
       "<Figure size 432x288 with 1 Axes>"
      ]
     },
     "metadata": {
      "needs_background": "light"
     },
     "output_type": "display_data"
    }
   ],
   "source": [
    "plt.xlabel('Episode')\n",
    "plt.ylabel('Reward')\n",
    "plt.title('Q-learning in MountainCar with Discretised state space')\n",
    "plt.plot(range(len(rewards)),rewards)"
   ]
  },
  {
   "cell_type": "code",
   "execution_count": 144,
   "metadata": {},
   "outputs": [
    {
     "data": {
      "text/plain": [
       "-140.0"
      ]
     },
     "execution_count": 144,
     "metadata": {},
     "output_type": "execute_result"
    }
   ],
   "source": [
    "evalute(True)"
   ]
  },
  {
   "cell_type": "code",
   "execution_count": null,
   "metadata": {},
   "outputs": [],
   "source": []
  }
 ],
 "metadata": {
  "kernelspec": {
   "display_name": "myenv",
   "language": "python",
   "name": "myenv"
  },
  "language_info": {
   "codemirror_mode": {
    "name": "ipython",
    "version": 3
   },
   "file_extension": ".py",
   "mimetype": "text/x-python",
   "name": "python",
   "nbconvert_exporter": "python",
   "pygments_lexer": "ipython3",
   "version": "3.6.8"
  }
 },
 "nbformat": 4,
 "nbformat_minor": 2
}
