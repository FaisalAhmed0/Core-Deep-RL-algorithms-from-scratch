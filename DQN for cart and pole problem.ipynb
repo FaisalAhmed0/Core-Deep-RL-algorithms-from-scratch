{
 "cells": [
  {
   "cell_type": "markdown",
   "metadata": {},
   "source": [
    "# Created by Faisal\n",
    "# 21/7/2019\n",
    "# DQN algorithm on the cart and pole problem using a neural network built via Tensorflow\n",
    "# The algorithm is a simpler version of the DQN in 'Playing Atari with Deep Reinforcement Learning' paper by Volodymyr et al and with out applying Expericne replay"
   ]
  },
  {
   "cell_type": "code",
   "execution_count": 1,
   "metadata": {},
   "outputs": [],
   "source": [
    "import gym\n",
    "import tensorflow as tf\n",
    "import numpy as np\n",
    "import matplotlib.pyplot as plt\n",
    "from numpy.random import rand"
   ]
  },
  {
   "cell_type": "markdown",
   "metadata": {},
   "source": [
    "## Build the Q network"
   ]
  },
  {
   "cell_type": "code",
   "execution_count": 2,
   "metadata": {},
   "outputs": [],
   "source": [
    "n_inputs = 4\n",
    "n_hidden = 4\n",
    "n_output = 2"
   ]
  },
  {
   "cell_type": "markdown",
   "metadata": {},
   "source": [
    "### Network placeholders"
   ]
  },
  {
   "cell_type": "code",
   "execution_count": 3,
   "metadata": {},
   "outputs": [],
   "source": [
    "X = tf.placeholder(tf.float32,(None,n_inputs),name='X')\n",
    "y = tf.placeholder(tf.float32,(None),name='y')"
   ]
  },
  {
   "cell_type": "markdown",
   "metadata": {},
   "source": [
    "### Hidden layer"
   ]
  },
  {
   "cell_type": "code",
   "execution_count": 4,
   "metadata": {},
   "outputs": [],
   "source": [
    "w_hidden = tf.Variable(tf.random_normal((n_inputs, n_hidden)), name='w_hidden')\n",
    "b_hidden = tf.Variable(tf.random_normal((n_hidden, )), name='b_hidden')\n",
    "x_hidden = tf.nn.relu(tf.matmul(X,w_hidden) + b_hidden)"
   ]
  },
  {
   "cell_type": "markdown",
   "metadata": {},
   "source": [
    "### output layer is a 2 dimentional vector with linear activation, each index is the Q(s,a) for a specific action in this problem we have two discrete actions, 0 which is apply a force to the left, and 1 which apply a force to the right"
   ]
  },
  {
   "cell_type": "code",
   "execution_count": 5,
   "metadata": {},
   "outputs": [],
   "source": [
    "w_output = tf.Variable(tf.random_normal((n_hidden, n_output)), name='w_output')\n",
    "b_output = tf.Variable(tf.random_normal((n_output,)), name='b_hidden')\n",
    "output = tf.matmul(x_hidden,w_output) + b_output"
   ]
  },
  {
   "cell_type": "code",
   "execution_count": 6,
   "metadata": {},
   "outputs": [],
   "source": [
    "with tf.name_scope('loss'):\n",
    "    loss = tf.losses.mean_squared_error(y,output)"
   ]
  },
  {
   "cell_type": "code",
   "execution_count": 7,
   "metadata": {},
   "outputs": [],
   "source": [
    "learning_rate = 0.001\n",
    "with tf.name_scope('optim'):\n",
    "    train_op = tf.train.AdamOptimizer(learning_rate).minimize(loss)"
   ]
  },
  {
   "cell_type": "code",
   "execution_count": 8,
   "metadata": {},
   "outputs": [],
   "source": [
    "init = tf.global_variables_initializer()\n",
    "saver = tf.train.Saver()"
   ]
  },
  {
   "cell_type": "code",
   "execution_count": 9,
   "metadata": {},
   "outputs": [],
   "source": [
    "with tf.name_scope('summaries'):\n",
    "    tf.summary.scalar('loss',loss)\n",
    "    merged = tf.summary.merge_all()"
   ]
  },
  {
   "cell_type": "code",
   "execution_count": 67,
   "metadata": {},
   "outputs": [],
   "source": [
    "num_eps = 50000\n",
    "# discount factor\n",
    "Gamma = 0.95\n",
    "Actions = [0,1]"
   ]
  },
  {
   "cell_type": "code",
   "execution_count": null,
   "metadata": {},
   "outputs": [
    {
     "name": "stdout",
     "output_type": "stream",
     "text": [
      "reward: 21.0, iteration: 16209 , max_rewrad: 128.0, avergae_rewrad 22.03, eps: 0.1  \r"
     ]
    }
   ],
   "source": [
    "env = gym.make('CartPole-v0')\n",
    "rewards = []\n",
    "r = 0\n",
    "with tf.Session() as sess:\n",
    "    init.run()\n",
    "    for i in range(num_eps):\n",
    "        epsilon = 0.1\n",
    "        state = env.reset()\n",
    "        r = 0\n",
    "        done = False\n",
    "        while True:\n",
    "            # Choose actions according to an eps-greedy policy\n",
    "            if rand() <= epsilon:\n",
    "                # compute the Q for each action\n",
    "                Q = sess.run(output,feed_dict={X:state.reshape(1,4)})\n",
    "                # choose the suboptimal action\n",
    "                action = 1 - np.argmax(Q)\n",
    "            else:\n",
    "                Q = sess.run(output,feed_dict={X:state.reshape(1,4)})\n",
    "                # choose actions greedly\n",
    "                action = np.argmax(Q)\n",
    "            action = np.random.choice([0,1])\n",
    "            state_,reward,done,_ = env.step(action)\n",
    "            if done:\n",
    "                yi = reward\n",
    "                r += reward\n",
    "                rewards.append(r)\n",
    "                print ('\\rreward: {}, iteration: {} , max_rewrad: {}, avergae_rewrad {:.2f}, eps: {} \\r'.format(r, i+1, \n",
    "                                                            np.max(rewards),np.mean(rewards),epsilon),end='')\n",
    "                sess.run([train_op,loss],feed_dict={X:state.reshape(1,4),y:yi})\n",
    "                break\n",
    "            Q_ = sess.run(output,feed_dict={X:state_.reshape(1,4)})\n",
    "            r += reward\n",
    "            # compute a Q learning return which is will be the network target\n",
    "            yi = reward + (Gamma * np.max(Q_))\n",
    "            sess.run(train_op,feed_dict={X:state.reshape(1,4),y:yi})\n",
    "            l = sess.run(loss,feed_dict={X:state.reshape(1,4),y:yi})\n",
    "            state = state_\n",
    "        # save every five episodes\n",
    "        if (i%5 == 0):\n",
    "            saver.save(sess,'./DQN_for_cart_and_pole.ckpt')"
   ]
  },
  {
   "cell_type": "code",
   "execution_count": 66,
   "metadata": {},
   "outputs": [
    {
     "name": "stdout",
     "output_type": "stream",
     "text": [
      "INFO:tensorflow:Restoring parameters from ./DQN_for_cart_and_pole.ckpt\n"
     ]
    },
    {
     "data": {
      "text/plain": [
       "110.0"
      ]
     },
     "execution_count": 66,
     "metadata": {},
     "output_type": "execute_result"
    }
   ],
   "source": [
    "# Run the policy after Training\n",
    "re = 0\n",
    "obs = env.reset()\n",
    "with tf.Session() as sess:\n",
    "    saver.restore(sess,'./DQN_for_cart_and_pole.ckpt')\n",
    "    while True:\n",
    "        env.render()\n",
    "        actions = sess.run(output,feed_dict={X:obs.reshape(1,4)})\n",
    "        action = np.argmax(actions)\n",
    "        obs,r,d,_ = env.step(action)\n",
    "        re += r\n",
    "        if d:\n",
    "            env.close()\n",
    "            break\n",
    "re        "
   ]
  },
  {
   "cell_type": "code",
   "execution_count": null,
   "metadata": {},
   "outputs": [],
   "source": []
  },
  {
   "cell_type": "code",
   "execution_count": null,
   "metadata": {},
   "outputs": [],
   "source": []
  }
 ],
 "metadata": {
  "kernelspec": {
   "display_name": "myenv",
   "language": "python",
   "name": "myenv"
  },
  "language_info": {
   "codemirror_mode": {
    "name": "ipython",
    "version": 3
   },
   "file_extension": ".py",
   "mimetype": "text/x-python",
   "name": "python",
   "nbconvert_exporter": "python",
   "pygments_lexer": "ipython3",
   "version": "3.6.8"
  }
 },
 "nbformat": 4,
 "nbformat_minor": 2
}
